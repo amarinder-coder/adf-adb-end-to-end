{
 "cells": [
  {
   "cell_type": "code",
   "execution_count": 0,
   "metadata": {
    "application/vnd.databricks.v1+cell": {
     "cellMetadata": {
      "byteLimit": 2048000,
      "rowLimit": 10000
     },
     "inputWidgets": {},
     "nuid": "d412b03e-b182-4a68-a513-7a8faafcc93e",
     "showTitle": true,
     "title": "getting the data"
    }
   },
   "outputs": [],
   "source": [
    "ratings_f = \"dbfs:/mnt/rawdata/movie/ratings.csv\"\n",
    "movies_f = \"dbfs:/mnt/rawdata/movie/movies.csv\""
   ]
  },
  {
   "cell_type": "code",
   "execution_count": 0,
   "metadata": {
    "application/vnd.databricks.v1+cell": {
     "cellMetadata": {
      "byteLimit": 2048000,
      "rowLimit": 10000
     },
     "inputWidgets": {},
     "nuid": "958ce697-b3bb-4c86-86fa-837de7965c23",
     "showTitle": false,
     "title": ""
    }
   },
   "outputs": [
    {
     "output_type": "display_data",
     "data": {
      "text/html": [
       "<style scoped>\n  .table-result-container {\n    max-height: 300px;\n    overflow: auto;\n  }\n  table, th, td {\n    border: 1px solid black;\n    border-collapse: collapse;\n  }\n  th, td {\n    padding: 5px;\n  }\n  th {\n    text-align: left;\n  }\n</style><div class='table-result-container'><table class='table-result'><thead style='background-color: white'><tr><th>path</th><th>name</th><th>size</th><th>modificationTime</th></tr></thead><tbody><tr><td>dbfs:/mnt/rawdata/movie/genome-tags.csv</td><td>genome-tags.csv</td><td>18103</td><td>1679442810000</td></tr><tr><td>dbfs:/mnt/rawdata/movie/movies.csv</td><td>movies.csv</td><td>3038099</td><td>1679442811000</td></tr><tr><td>dbfs:/mnt/rawdata/movie/ratings.csv</td><td>ratings.csv</td><td>678260987</td><td>1679442886000</td></tr></tbody></table></div>"
      ]
     },
     "metadata": {
      "application/vnd.databricks.v1+output": {
       "addedWidgets": {},
       "aggData": [],
       "aggError": "",
       "aggOverflow": false,
       "aggSchema": [],
       "aggSeriesLimitReached": false,
       "aggType": "",
       "arguments": {},
       "columnCustomDisplayInfos": {},
       "data": [
        [
         "dbfs:/mnt/rawdata/movie/genome-tags.csv",
         "genome-tags.csv",
         18103,
         1679442810000
        ],
        [
         "dbfs:/mnt/rawdata/movie/movies.csv",
         "movies.csv",
         3038099,
         1679442811000
        ],
        [
         "dbfs:/mnt/rawdata/movie/ratings.csv",
         "ratings.csv",
         678260987,
         1679442886000
        ]
       ],
       "datasetInfos": [],
       "dbfsResultPath": null,
       "isJsonSchema": true,
       "metadata": {
        "isDbfsCommandResult": false
       },
       "overflow": false,
       "plotOptions": {
        "customPlotOptions": {},
        "displayType": "table",
        "pivotAggregation": null,
        "pivotColumns": null,
        "xColumns": null,
        "yColumns": null
       },
       "removedWidgets": [],
       "schema": [
        {
         "metadata": "{}",
         "name": "path",
         "type": "\"string\""
        },
        {
         "metadata": "{}",
         "name": "name",
         "type": "\"string\""
        },
        {
         "metadata": "{}",
         "name": "size",
         "type": "\"long\""
        },
        {
         "metadata": "{}",
         "name": "modificationTime",
         "type": "\"long\""
        }
       ],
       "type": "table"
      }
     },
     "output_type": "display_data"
    }
   ],
   "source": [
    "%fs\n",
    "\n",
    "ls dbfs:/mnt/rawdata/movie"
   ]
  },
  {
   "cell_type": "code",
   "execution_count": 0,
   "metadata": {
    "application/vnd.databricks.v1+cell": {
     "cellMetadata": {
      "byteLimit": 2048000,
      "rowLimit": 10000
     },
     "inputWidgets": {},
     "nuid": "dd8c2e0b-c7af-49fd-95e9-a95926d5603a",
     "showTitle": true,
     "title": "analysis on movies.csv with dataframes"
    }
   },
   "outputs": [],
   "source": [
    "from pyspark.sql.types  import *\n",
    "movies_w_genres_df_schema = StructType(\n",
    "    [\n",
    "        StructField('ID', IntegerType()),\n",
    "        StructField('title', StringType()),\n",
    "        StructField('genres', StringType())\n",
    "    ]\n",
    ")\n",
    "\n",
    "movies_df_schema = StructType(\n",
    "    [\n",
    "        StructField('ID', IntegerType()),\n",
    "        StructField('title', StringType())\n",
    "    ]\n",
    ")"
   ]
  },
  {
   "cell_type": "code",
   "execution_count": 0,
   "metadata": {
    "application/vnd.databricks.v1+cell": {
     "cellMetadata": {
      "byteLimit": 2048000,
      "rowLimit": 10000
     },
     "inputWidgets": {},
     "nuid": "82d346f7-73d6-45e5-88dc-c361c9d7582e",
     "showTitle": true,
     "title": "creating final dataframes"
    }
   },
   "outputs": [],
   "source": [
    "movies_df = sqlContext.read.format('com.databricks.spark.csv').options(header=True,\n",
    "inferSchema=False).schema(movies_df_schema).load(movies_f)\n",
    "\n",
    "movies_w_genres_df = sqlContext.read.format('com.databricks.spark.csv').options(header=True,\n",
    "inferSchema=False).schema(movies_w_genres_df_schema).load(movies_f)\n",
    "    "
   ]
  },
  {
   "cell_type": "code",
   "execution_count": 0,
   "metadata": {
    "application/vnd.databricks.v1+cell": {
     "cellMetadata": {
      "byteLimit": 2048000,
      "rowLimit": 10000
     },
     "inputWidgets": {},
     "nuid": "37a18b01-9e1a-4222-b498-07cfe848add3",
     "showTitle": false,
     "title": ""
    }
   },
   "outputs": [
    {
     "output_type": "stream",
     "name": "stdout",
     "output_type": "stream",
     "text": [
      "+---+------------------------+\n|ID |title                   |\n+---+------------------------+\n|1  |Toy Story (1995)        |\n|2  |Jumanji (1995)          |\n|3  |Grumpier Old Men (1995) |\n|4  |Waiting to Exhale (1995)|\n+---+------------------------+\nonly showing top 4 rows\n\n+---+------------------------+-------------------------------------------+\n|ID |title                   |genres                                     |\n+---+------------------------+-------------------------------------------+\n|1  |Toy Story (1995)        |Adventure|Animation|Children|Comedy|Fantasy|\n|2  |Jumanji (1995)          |Adventure|Children|Fantasy                 |\n|3  |Grumpier Old Men (1995) |Comedy|Romance                             |\n|4  |Waiting to Exhale (1995)|Comedy|Drama|Romance                       |\n+---+------------------------+-------------------------------------------+\nonly showing top 4 rows\n\n"
     ]
    }
   ],
   "source": [
    "movies_df.show(4, truncate = False)\n",
    "movies_w_genres_df.show(4, truncate = False)"
   ]
  },
  {
   "cell_type": "code",
   "execution_count": 0,
   "metadata": {
    "application/vnd.databricks.v1+cell": {
     "cellMetadata": {
      "byteLimit": 2048000,
      "rowLimit": 10000
     },
     "inputWidgets": {},
     "nuid": "c623a628-7029-4c9c-bc2b-8766da0cb0a7",
     "showTitle": true,
     "title": "extracting year column from existing title column"
    }
   },
   "outputs": [],
   "source": [
    "from pyspark.sql.functions import split, regexp_extract\n",
    "\n",
    "movies_with_year_df = movies_df.select('ID','title', regexp_extract('title',r'\\((\\d+)\\)',1).alias('year') )"
   ]
  },
  {
   "cell_type": "code",
   "execution_count": 0,
   "metadata": {
    "application/vnd.databricks.v1+cell": {
     "cellMetadata": {
      "byteLimit": 2048000,
      "rowLimit": 10000
     },
     "inputWidgets": {},
     "nuid": "407261ae-50bb-434f-bd37-07da0696b1d4",
     "showTitle": false,
     "title": ""
    }
   },
   "outputs": [
    {
     "output_type": "stream",
     "name": "stdout",
     "output_type": "stream",
     "text": [
      "+---+------------------------+----+\n|ID |title                   |year|\n+---+------------------------+----+\n|1  |Toy Story (1995)        |1995|\n|2  |Jumanji (1995)          |1995|\n|3  |Grumpier Old Men (1995) |1995|\n|4  |Waiting to Exhale (1995)|1995|\n+---+------------------------+----+\nonly showing top 4 rows\n\n"
     ]
    }
   ],
   "source": [
    "movies_with_year_df.show(4, truncate = False)"
   ]
  },
  {
   "cell_type": "code",
   "execution_count": 0,
   "metadata": {
    "application/vnd.databricks.v1+cell": {
     "cellMetadata": {
      "byteLimit": 2048000,
      "rowLimit": 10000
     },
     "inputWidgets": {},
     "nuid": "a2190ec4-eb54-4e3f-8a5c-3e19e8e9a73f",
     "showTitle": true,
     "title": "some insights"
    }
   },
   "outputs": [
    {
     "output_type": "display_data",
     "data": {
      "text/html": [
       "<style scoped>\n  .table-result-container {\n    max-height: 300px;\n    overflow: auto;\n  }\n  table, th, td {\n    border: 1px solid black;\n    border-collapse: collapse;\n  }\n  th, td {\n    padding: 5px;\n  }\n  th {\n    text-align: left;\n  }\n</style><div class='table-result-container'><table class='table-result'><thead style='background-color: white'><tr><th>year</th><th>count</th></tr></thead><tbody><tr><td>2015</td><td>2513</td></tr><tr><td>2016</td><td>2488</td></tr><tr><td>2014</td><td>2406</td></tr><tr><td>2017</td><td>2374</td></tr><tr><td>2013</td><td>2173</td></tr><tr><td>2018</td><td>2034</td></tr><tr><td>2012</td><td>1978</td></tr><tr><td>2011</td><td>1838</td></tr><tr><td>2009</td><td>1723</td></tr><tr><td>2010</td><td>1691</td></tr><tr><td>2008</td><td>1632</td></tr><tr><td>2007</td><td>1498</td></tr><tr><td>2006</td><td>1446</td></tr><tr><td>2005</td><td>1255</td></tr><tr><td>2004</td><td>1172</td></tr><tr><td>2003</td><td>1028</td></tr><tr><td>2002</td><td>1024</td></tr><tr><td>2019</td><td>994</td></tr><tr><td>2001</td><td>971</td></tr><tr><td>2000</td><td>929</td></tr><tr><td>1999</td><td>812</td></tr><tr><td>1998</td><td>803</td></tr><tr><td>1997</td><td>792</td></tr><tr><td>1995</td><td>705</td></tr><tr><td>1996</td><td>703</td></tr><tr><td>1994</td><td>644</td></tr><tr><td>1988</td><td>628</td></tr><tr><td>1989</td><td>609</td></tr><tr><td>1987</td><td>595</td></tr><tr><td>1993</td><td>571</td></tr><tr><td>1992</td><td>563</td></tr><tr><td>1972</td><td>556</td></tr><tr><td>1990</td><td>538</td></tr><tr><td>1971</td><td>534</td></tr><tr><td>1991</td><td>524</td></tr><tr><td>1973</td><td>515</td></tr><tr><td>1986</td><td>513</td></tr><tr><td>1985</td><td>513</td></tr><tr><td>1974</td><td>511</td></tr><tr><td>1970</td><td>491</td></tr><tr><td>1976</td><td>490</td></tr><tr><td>1979</td><td>487</td></tr><tr><td>1984</td><td>471</td></tr><tr><td>1980</td><td>470</td></tr><tr><td>1977</td><td>469</td></tr><tr><td>1981</td><td>462</td></tr><tr><td>1982</td><td>461</td></tr><tr><td>1983</td><td>460</td></tr><tr><td>1968</td><td>458</td></tr><tr><td>1978</td><td>457</td></tr><tr><td>1975</td><td>448</td></tr><tr><td>1969</td><td>442</td></tr><tr><td></td><td>410</td></tr><tr><td>1966</td><td>404</td></tr><tr><td>1967</td><td>388</td></tr><tr><td>1964</td><td>367</td></tr><tr><td>1965</td><td>362</td></tr><tr><td>1957</td><td>336</td></tr><tr><td>1963</td><td>317</td></tr><tr><td>1955</td><td>315</td></tr><tr><td>1958</td><td>309</td></tr><tr><td>1953</td><td>304</td></tr><tr><td>1959</td><td>304</td></tr><tr><td>1956</td><td>294</td></tr><tr><td>1962</td><td>289</td></tr><tr><td>1961</td><td>289</td></tr><tr><td>1952</td><td>287</td></tr><tr><td>1954</td><td>285</td></tr><tr><td>1950</td><td>279</td></tr><tr><td>1960</td><td>269</td></tr><tr><td>1951</td><td>268</td></tr><tr><td>1949</td><td>266</td></tr><tr><td>1942</td><td>257</td></tr><tr><td>1948</td><td>245</td></tr><tr><td>1937</td><td>235</td></tr><tr><td>1941</td><td>232</td></tr><tr><td>1947</td><td>232</td></tr><tr><td>1936</td><td>230</td></tr><tr><td>1935</td><td>227</td></tr><tr><td>1943</td><td>223</td></tr><tr><td>1940</td><td>223</td></tr><tr><td>1934</td><td>219</td></tr><tr><td>1945</td><td>219</td></tr><tr><td>1933</td><td>218</td></tr><tr><td>1946</td><td>217</td></tr><tr><td>1932</td><td>215</td></tr><tr><td>1939</td><td>214</td></tr><tr><td>1944</td><td>212</td></tr><tr><td>1938</td><td>209</td></tr><tr><td>1931</td><td>173</td></tr><tr><td>1930</td><td>129</td></tr><tr><td>1929</td><td>117</td></tr><tr><td>1928</td><td>77</td></tr><tr><td>1926</td><td>66</td></tr><tr><td>1927</td><td>62</td></tr><tr><td>1925</td><td>52</td></tr><tr><td>1921</td><td>48</td></tr><tr><td>1922</td><td>46</td></tr><tr><td>1924</td><td>42</td></tr><tr><td>1914</td><td>42</td></tr><tr><td>1916</td><td>37</td></tr><tr><td>1920</td><td>36</td></tr><tr><td>1919</td><td>30</td></tr><tr><td>1923</td><td>30</td></tr><tr><td>1915</td><td>28</td></tr><tr><td>1903</td><td>26</td></tr><tr><td>1917</td><td>26</td></tr><tr><td>1900</td><td>22</td></tr><tr><td>1896</td><td>22</td></tr><tr><td>1894</td><td>22</td></tr><tr><td>1918</td><td>20</td></tr><tr><td>1912</td><td>19</td></tr><tr><td>1907</td><td>18</td></tr><tr><td>1906</td><td>17</td></tr><tr><td>1908</td><td>17</td></tr><tr><td>1909</td><td>16</td></tr><tr><td>1895</td><td>15</td></tr><tr><td>1913</td><td>15</td></tr><tr><td>1898</td><td>14</td></tr><tr><td>1897</td><td>13</td></tr><tr><td>1901</td><td>12</td></tr><tr><td>1910</td><td>11</td></tr><tr><td>1911</td><td>11</td></tr><tr><td>1904</td><td>11</td></tr><tr><td>1905</td><td>10</td></tr><tr><td>1899</td><td>8</td></tr><tr><td>1891</td><td>6</td></tr><tr><td>1902</td><td>6</td></tr><tr><td>1890</td><td>5</td></tr><tr><td>1888</td><td>4</td></tr><tr><td>1892</td><td>3</td></tr><tr><td>1880</td><td>1</td></tr><tr><td>69</td><td>1</td></tr><tr><td>1874</td><td>1</td></tr><tr><td>1887</td><td>1</td></tr><tr><td>1883</td><td>1</td></tr><tr><td>1878</td><td>1</td></tr><tr><td>06</td><td>1</td></tr><tr><td>500</td><td>1</td></tr></tbody></table></div>"
      ]
     },
     "metadata": {
      "application/vnd.databricks.v1+output": {
       "addedWidgets": {},
       "aggData": [],
       "aggError": "",
       "aggOverflow": false,
       "aggSchema": [],
       "aggSeriesLimitReached": false,
       "aggType": "",
       "arguments": {},
       "columnCustomDisplayInfos": {},
       "data": [
        [
         "2015",
         2513
        ],
        [
         "2016",
         2488
        ],
        [
         "2014",
         2406
        ],
        [
         "2017",
         2374
        ],
        [
         "2013",
         2173
        ],
        [
         "2018",
         2034
        ],
        [
         "2012",
         1978
        ],
        [
         "2011",
         1838
        ],
        [
         "2009",
         1723
        ],
        [
         "2010",
         1691
        ],
        [
         "2008",
         1632
        ],
        [
         "2007",
         1498
        ],
        [
         "2006",
         1446
        ],
        [
         "2005",
         1255
        ],
        [
         "2004",
         1172
        ],
        [
         "2003",
         1028
        ],
        [
         "2002",
         1024
        ],
        [
         "2019",
         994
        ],
        [
         "2001",
         971
        ],
        [
         "2000",
         929
        ],
        [
         "1999",
         812
        ],
        [
         "1998",
         803
        ],
        [
         "1997",
         792
        ],
        [
         "1995",
         705
        ],
        [
         "1996",
         703
        ],
        [
         "1994",
         644
        ],
        [
         "1988",
         628
        ],
        [
         "1989",
         609
        ],
        [
         "1987",
         595
        ],
        [
         "1993",
         571
        ],
        [
         "1992",
         563
        ],
        [
         "1972",
         556
        ],
        [
         "1990",
         538
        ],
        [
         "1971",
         534
        ],
        [
         "1991",
         524
        ],
        [
         "1973",
         515
        ],
        [
         "1986",
         513
        ],
        [
         "1985",
         513
        ],
        [
         "1974",
         511
        ],
        [
         "1970",
         491
        ],
        [
         "1976",
         490
        ],
        [
         "1979",
         487
        ],
        [
         "1984",
         471
        ],
        [
         "1980",
         470
        ],
        [
         "1977",
         469
        ],
        [
         "1981",
         462
        ],
        [
         "1982",
         461
        ],
        [
         "1983",
         460
        ],
        [
         "1968",
         458
        ],
        [
         "1978",
         457
        ],
        [
         "1975",
         448
        ],
        [
         "1969",
         442
        ],
        [
         "",
         410
        ],
        [
         "1966",
         404
        ],
        [
         "1967",
         388
        ],
        [
         "1964",
         367
        ],
        [
         "1965",
         362
        ],
        [
         "1957",
         336
        ],
        [
         "1963",
         317
        ],
        [
         "1955",
         315
        ],
        [
         "1958",
         309
        ],
        [
         "1953",
         304
        ],
        [
         "1959",
         304
        ],
        [
         "1956",
         294
        ],
        [
         "1962",
         289
        ],
        [
         "1961",
         289
        ],
        [
         "1952",
         287
        ],
        [
         "1954",
         285
        ],
        [
         "1950",
         279
        ],
        [
         "1960",
         269
        ],
        [
         "1951",
         268
        ],
        [
         "1949",
         266
        ],
        [
         "1942",
         257
        ],
        [
         "1948",
         245
        ],
        [
         "1937",
         235
        ],
        [
         "1941",
         232
        ],
        [
         "1947",
         232
        ],
        [
         "1936",
         230
        ],
        [
         "1935",
         227
        ],
        [
         "1943",
         223
        ],
        [
         "1940",
         223
        ],
        [
         "1934",
         219
        ],
        [
         "1945",
         219
        ],
        [
         "1933",
         218
        ],
        [
         "1946",
         217
        ],
        [
         "1932",
         215
        ],
        [
         "1939",
         214
        ],
        [
         "1944",
         212
        ],
        [
         "1938",
         209
        ],
        [
         "1931",
         173
        ],
        [
         "1930",
         129
        ],
        [
         "1929",
         117
        ],
        [
         "1928",
         77
        ],
        [
         "1926",
         66
        ],
        [
         "1927",
         62
        ],
        [
         "1925",
         52
        ],
        [
         "1921",
         48
        ],
        [
         "1922",
         46
        ],
        [
         "1924",
         42
        ],
        [
         "1914",
         42
        ],
        [
         "1916",
         37
        ],
        [
         "1920",
         36
        ],
        [
         "1919",
         30
        ],
        [
         "1923",
         30
        ],
        [
         "1915",
         28
        ],
        [
         "1903",
         26
        ],
        [
         "1917",
         26
        ],
        [
         "1900",
         22
        ],
        [
         "1896",
         22
        ],
        [
         "1894",
         22
        ],
        [
         "1918",
         20
        ],
        [
         "1912",
         19
        ],
        [
         "1907",
         18
        ],
        [
         "1906",
         17
        ],
        [
         "1908",
         17
        ],
        [
         "1909",
         16
        ],
        [
         "1895",
         15
        ],
        [
         "1913",
         15
        ],
        [
         "1898",
         14
        ],
        [
         "1897",
         13
        ],
        [
         "1901",
         12
        ],
        [
         "1910",
         11
        ],
        [
         "1911",
         11
        ],
        [
         "1904",
         11
        ],
        [
         "1905",
         10
        ],
        [
         "1899",
         8
        ],
        [
         "1891",
         6
        ],
        [
         "1902",
         6
        ],
        [
         "1890",
         5
        ],
        [
         "1888",
         4
        ],
        [
         "1892",
         3
        ],
        [
         "1880",
         1
        ],
        [
         "69",
         1
        ],
        [
         "1874",
         1
        ],
        [
         "1887",
         1
        ],
        [
         "1883",
         1
        ],
        [
         "1878",
         1
        ],
        [
         "06",
         1
        ],
        [
         "500",
         1
        ]
       ],
       "datasetInfos": [],
       "dbfsResultPath": null,
       "isJsonSchema": true,
       "metadata": {},
       "overflow": false,
       "plotOptions": {
        "customPlotOptions": {},
        "displayType": "table",
        "pivotAggregation": null,
        "pivotColumns": null,
        "xColumns": null,
        "yColumns": null
       },
       "removedWidgets": [],
       "schema": [
        {
         "metadata": "{}",
         "name": "year",
         "type": "\"string\""
        },
        {
         "metadata": "{}",
         "name": "count",
         "type": "\"long\""
        }
       ],
       "type": "table"
      }
     },
     "output_type": "display_data"
    }
   ],
   "source": [
    "display(movies_with_year_df.groupBy('year').count().orderBy('count',ascending = False))"
   ]
  },
  {
   "cell_type": "code",
   "execution_count": 0,
   "metadata": {
    "application/vnd.databricks.v1+cell": {
     "cellMetadata": {
      "byteLimit": 2048000,
      "rowLimit": 10000
     },
     "inputWidgets": {},
     "nuid": "8fd91985-64ac-4a1b-bf58-afaa4a9a07da",
     "showTitle": false,
     "title": ""
    }
   },
   "outputs": [],
   "source": [
    "ratings_df_schema = StructType(\n",
    "    [\n",
    "        StructField('userID', IntegerType()),\n",
    "        StructField('movieID', IntegerType()),\n",
    "        StructField('rating', DoubleType())\n",
    "    ]\n",
    ")\n"
   ]
  },
  {
   "cell_type": "code",
   "execution_count": 0,
   "metadata": {
    "application/vnd.databricks.v1+cell": {
     "cellMetadata": {
      "byteLimit": 2048000,
      "rowLimit": 10000
     },
     "inputWidgets": {},
     "nuid": "2c1daa05-7e11-4803-b305-012ed58fc777",
     "showTitle": false,
     "title": ""
    }
   },
   "outputs": [
    {
     "output_type": "stream",
     "name": "stdout",
     "output_type": "stream",
     "text": [
      "+------+-------+------+\n|userID|movieID|rating|\n+------+-------+------+\n|     1|    296|   5.0|\n|     1|    306|   3.5|\n|     1|    307|   5.0|\n|     1|    665|   5.0|\n+------+-------+------+\nonly showing top 4 rows\n\n"
     ]
    }
   ],
   "source": [
    "ratings_df = sqlContext.read.format('com.databricks.spark.csv').options(header=True,\n",
    "inferSchema=False).schema(ratings_df_schema).load(ratings_f)\n",
    "ratings_df.show(4)"
   ]
  },
  {
   "cell_type": "code",
   "execution_count": 0,
   "metadata": {
    "application/vnd.databricks.v1+cell": {
     "cellMetadata": {
      "byteLimit": 2048000,
      "rowLimit": 10000
     },
     "inputWidgets": {},
     "nuid": "b5983563-61d0-4d9e-ab32-38e37a50a720",
     "showTitle": false,
     "title": ""
    }
   },
   "outputs": [
    {
     "output_type": "stream",
     "name": "stdout",
     "output_type": "stream",
     "text": [
      "Out[18]: DataFrame[ID: int, title: string]"
     ]
    }
   ],
   "source": [
    "ratings_df.cache()\n",
    "movies_df.cache()"
   ]
  },
  {
   "cell_type": "code",
   "execution_count": 0,
   "metadata": {
    "application/vnd.databricks.v1+cell": {
     "cellMetadata": {
      "byteLimit": 2048000,
      "rowLimit": 10000
     },
     "inputWidgets": {},
     "nuid": "5b4e87c1-1b50-4066-b17c-2b8f3c6b7b06",
     "showTitle": false,
     "title": ""
    }
   },
   "outputs": [
    {
     "output_type": "stream",
     "name": "stdout",
     "output_type": "stream",
     "text": [
      "movie_ids_w_avg_ratings_df:\n+-------+-----+------------------+\n|movieID|count|average           |\n+-------+-----+------------------+\n|1088   |11935|3.25002094679514  |\n|1580   |40308|3.5817083457378187|\n|3175   |14659|3.6077836141619484|\n|44022  |4833 |3.2593627146699773|\n+-------+-----+------------------+\nonly showing top 4 rows\n\n"
     ]
    }
   ],
   "source": [
    "from pyspark.sql import functions as F\n",
    "\n",
    "movie_ids_w_avg_ratings_df = ratings_df.groupBy('movieID').agg(F.count(ratings_df.rating).alias('count'),\n",
    "                                                              F.avg(ratings_df.rating).alias('average'))\n",
    "print('movie_ids_w_avg_ratings_df:')\n",
    "movie_ids_w_avg_ratings_df.show(4, truncate=False)"
   ]
  },
  {
   "cell_type": "code",
   "execution_count": 0,
   "metadata": {
    "application/vnd.databricks.v1+cell": {
     "cellMetadata": {
      "byteLimit": 2048000,
      "rowLimit": 10000
     },
     "inputWidgets": {},
     "nuid": "e82ff90f-6418-4c1a-8761-58c7eeeef598",
     "showTitle": false,
     "title": ""
    }
   },
   "outputs": [
    {
     "output_type": "stream",
     "name": "stdout",
     "output_type": "stream",
     "text": [
      "+-------+-----+------------------+--------------------------------+\n|movieID|count|average           |title                           |\n+-------+-----+------------------+--------------------------------+\n|1088   |11935|3.25002094679514  |Dirty Dancing (1987)            |\n|1580   |40308|3.5817083457378187|Men in Black (a.k.a. MIB) (1997)|\n|3175   |14659|3.6077836141619484|Galaxy Quest (1999)             |\n|44022  |4833 |3.2593627146699773|Ice Age 2: The Meltdown (2006)  |\n+-------+-----+------------------+--------------------------------+\nonly showing top 4 rows\n\n"
     ]
    }
   ],
   "source": [
    "movie_ids_w_avg_ratings_df = movie_ids_w_avg_ratings_df.join(movies_df,F.col('movieID') == F.col('ID')).drop('ID')\n",
    "movie_ids_w_avg_ratings_df.show(4, truncate=False)"
   ]
  },
  {
   "cell_type": "code",
   "execution_count": 0,
   "metadata": {
    "application/vnd.databricks.v1+cell": {
     "cellMetadata": {
      "byteLimit": 2048000,
      "rowLimit": 10000
     },
     "inputWidgets": {},
     "nuid": "b800cdf8-b101-4a5d-8824-c51aa86521b5",
     "showTitle": false,
     "title": ""
    }
   },
   "outputs": [
    {
     "output_type": "stream",
     "name": "stdout",
     "output_type": "stream",
     "text": [
      "+-------+-----+-----------------+--------------------------------+\n|movieID|count|average          |title                           |\n+-------+-----+-----------------+--------------------------------+\n|171011 |1124 |4.483096085409253|Planet Earth II (2016)          |\n|159817 |1747 |4.464796794504865|Planet Earth (2006)             |\n|318    |81482|4.413576004516335|Shawshank Redemption, The (1994)|\n|170705 |1356 |4.398598820058997|Band of Brothers (2001)         |\n+-------+-----+-----------------+--------------------------------+\nonly showing top 4 rows\n\n"
     ]
    }
   ],
   "source": [
    "movies_w_500_ratings_or_more = movie_ids_w_avg_ratings_df.filter(movie_ids_w_avg_ratings_df['count'] >= 500).orderBy('average'\n",
    "                                                                                                                    ,ascending=False)\n",
    "movies_w_500_ratings_or_more.show(4, truncate=False)"
   ]
  },
  {
   "cell_type": "code",
   "execution_count": 0,
   "metadata": {
    "application/vnd.databricks.v1+cell": {
     "cellMetadata": {
      "byteLimit": 2048000,
      "rowLimit": 10000
     },
     "inputWidgets": {},
     "nuid": "812f7a48-f652-4c8d-9ff8-75caa570bf0d",
     "showTitle": true,
     "title": "divide df into 3 dataset for training(60%), validation(20%), testing(20%)"
    }
   },
   "outputs": [
    {
     "output_type": "stream",
     "name": "stdout",
     "output_type": "stream",
     "text": [
      "Training: 14999112, Validation: 4999908, test: 5001075\n\n+------+-------+------+\n|userID|movieID|rating|\n+------+-------+------+\n|1     |306    |3.5   |\n|1     |307    |5.0   |\n|1     |665    |5.0   |\n|1     |899    |3.5   |\n+------+-------+------+\nonly showing top 4 rows\n\n+------+-------+------+\n|userID|movieID|rating|\n+------+-------+------+\n|1     |1250   |4.0   |\n|1     |2011   |2.5   |\n|1     |2161   |3.5   |\n|1     |2351   |4.5   |\n+------+-------+------+\nonly showing top 4 rows\n\n+------+-------+------+\n|userID|movieID|rating|\n+------+-------+------+\n|1     |296    |5.0   |\n|1     |1217   |3.5   |\n|1     |2068   |2.5   |\n|1     |2843   |4.5   |\n+------+-------+------+\nonly showing top 4 rows\n\n"
     ]
    }
   ],
   "source": [
    "seed=4\n",
    "(split_60_df, split_a_20_df, split_b_20_df ) = ratings_df.randomSplit([0.6,0.2,0.2],seed)\n",
    "\n",
    "training_df = split_60_df.cache()\n",
    "validation_df = split_a_20_df.cache()\n",
    "test_df = split_b_20_df.cache()\n",
    "\n",
    "print('Training: {0}, Validation: {1}, test: {2}\\n'.format(\n",
    "    training_df.count(), validation_df.count(), test_df.count()\n",
    "))\n",
    "\n",
    "training_df.show(4, truncate=False)\n",
    "validation_df.show(4, truncate=False)\n",
    "test_df.show(4, truncate=False)"
   ]
  },
  {
   "cell_type": "code",
   "execution_count": 0,
   "metadata": {
    "application/vnd.databricks.v1+cell": {
     "cellMetadata": {
      "byteLimit": 2048000,
      "rowLimit": 10000
     },
     "inputWidgets": {},
     "nuid": "a66ca301-cbb1-4715-8c8a-0ae85c54aa96",
     "showTitle": true,
     "title": "creating model"
    }
   },
   "outputs": [],
   "source": [
    "from pyspark.ml.recommendation import ALS\n",
    "als = ALS()\n",
    "\n",
    "als.setPredictionCol(\"prediction\")\\\n",
    "    .setMaxIter(5)\\\n",
    "    .setSeed(seed)\\\n",
    "    .setRegParam(0.1)\\\n",
    "    .setUserCol('userID')\\\n",
    "    .setItemCol('movieID')\\\n",
    "    .setRatingCol('rating')\\\n",
    "    .setRank(8)\n",
    "\n",
    "my_ratings_model =als.fit(training_df)"
   ]
  },
  {
   "cell_type": "code",
   "execution_count": 0,
   "metadata": {
    "application/vnd.databricks.v1+cell": {
     "cellMetadata": {
      "byteLimit": 2048000,
      "rowLimit": 10000
     },
     "inputWidgets": {},
     "nuid": "e2254163-57c0-449d-8a3d-cc32cf1999f5",
     "showTitle": false,
     "title": ""
    }
   },
   "outputs": [
    {
     "output_type": "stream",
     "name": "stdout",
     "output_type": "stream",
     "text": [
      "The model had a RMSE on the test set of 0.813771546438166\n"
     ]
    },
    {
     "output_type": "display_data",
     "data": {
      "text/plain": [
       "\u001B[0;31m---------------------------------------------------------------------------\u001B[0m\n\u001B[0;31mPy4JJavaError\u001B[0m                             Traceback (most recent call last)\n\u001B[0;32m<command-355361367363890>\u001B[0m in \u001B[0;36m<cell line: 13>\u001B[0;34m()\u001B[0m\n\u001B[1;32m     11\u001B[0m \u001B[0;34m\u001B[0m\u001B[0m\n\u001B[1;32m     12\u001B[0m \u001B[0mdbutils\u001B[0m\u001B[0;34m.\u001B[0m\u001B[0mwidgets\u001B[0m\u001B[0;34m.\u001B[0m\u001B[0mtext\u001B[0m\u001B[0;34m(\u001B[0m\u001B[0;34m\"inout\"\u001B[0m\u001B[0;34m,\u001B[0m \u001B[0;34m\"5\"\u001B[0m\u001B[0;34m,\u001B[0m\u001B[0;34m\"\"\u001B[0m\u001B[0;34m)\u001B[0m\u001B[0;34m\u001B[0m\u001B[0;34m\u001B[0m\u001B[0m\n\u001B[0;32m---> 13\u001B[0;31m \u001B[0mins\u001B[0m\u001B[0;34m=\u001B[0m \u001B[0mdbutils\u001B[0m\u001B[0;34m.\u001B[0m\u001B[0mwidgets\u001B[0m\u001B[0;34m.\u001B[0m\u001B[0mget\u001B[0m\u001B[0;34m(\u001B[0m\u001B[0;34m\"input\"\u001B[0m\u001B[0;34m)\u001B[0m\u001B[0;34m\u001B[0m\u001B[0;34m\u001B[0m\u001B[0m\n\u001B[0m\u001B[1;32m     14\u001B[0m \u001B[0muid\u001B[0m\u001B[0;34m=\u001B[0m\u001B[0mint\u001B[0m\u001B[0;34m(\u001B[0m\u001B[0mins\u001B[0m\u001B[0;34m)\u001B[0m\u001B[0;34m\u001B[0m\u001B[0;34m\u001B[0m\u001B[0m\n\u001B[1;32m     15\u001B[0m \u001B[0mll\u001B[0m\u001B[0;34m=\u001B[0m\u001B[0mpredicted_test_ratings_df\u001B[0m\u001B[0;34m.\u001B[0m\u001B[0mfilter\u001B[0m\u001B[0;34m(\u001B[0m\u001B[0mcol\u001B[0m\u001B[0;34m(\u001B[0m\u001B[0;34m\"userID\"\u001B[0m\u001B[0;34m)\u001B[0m\u001B[0;34m==\u001B[0m\u001B[0muid\u001B[0m\u001B[0;34m)\u001B[0m\u001B[0;34m\u001B[0m\u001B[0;34m\u001B[0m\u001B[0m\n\n\u001B[0;32m/databricks/python_shell/dbruntime/WidgetHandlerImpl.py\u001B[0m in \u001B[0;36mget\u001B[0;34m(self, name)\u001B[0m\n\u001B[1;32m     40\u001B[0m         \u001B[0;34m:\u001B[0m\u001B[0;32mreturn\u001B[0m\u001B[0;34m:\u001B[0m \u001B[0mCurrent\u001B[0m \u001B[0mvalue\u001B[0m \u001B[0mof\u001B[0m \u001B[0mthe\u001B[0m \u001B[0mwidget\u001B[0m \u001B[0;32mor\u001B[0m \u001B[0mdefault\u001B[0m \u001B[0mvalue\u001B[0m\u001B[0;34m\u001B[0m\u001B[0;34m\u001B[0m\u001B[0m\n\u001B[1;32m     41\u001B[0m         \"\"\"\n\u001B[0;32m---> 42\u001B[0;31m         \u001B[0;32mreturn\u001B[0m \u001B[0mself\u001B[0m\u001B[0;34m.\u001B[0m\u001B[0m_notebookArguments\u001B[0m\u001B[0;34m.\u001B[0m\u001B[0mgetArgument\u001B[0m\u001B[0;34m(\u001B[0m\u001B[0mname\u001B[0m\u001B[0;34m,\u001B[0m \u001B[0mself\u001B[0m\u001B[0;34m.\u001B[0m\u001B[0m_entry_point\u001B[0m\u001B[0;34m.\u001B[0m\u001B[0mgetCurrentBindings\u001B[0m\u001B[0;34m(\u001B[0m\u001B[0;34m)\u001B[0m\u001B[0;34m)\u001B[0m\u001B[0;34m\u001B[0m\u001B[0;34m\u001B[0m\u001B[0m\n\u001B[0m\u001B[1;32m     43\u001B[0m \u001B[0;34m\u001B[0m\u001B[0m\n\u001B[1;32m     44\u001B[0m     \u001B[0;32mdef\u001B[0m \u001B[0mgetArgument\u001B[0m\u001B[0;34m(\u001B[0m\u001B[0mself\u001B[0m\u001B[0;34m,\u001B[0m \u001B[0mname\u001B[0m\u001B[0;34m,\u001B[0m \u001B[0mdefaultValue\u001B[0m\u001B[0;34m=\u001B[0m\u001B[0;32mNone\u001B[0m\u001B[0;34m)\u001B[0m\u001B[0;34m:\u001B[0m\u001B[0;34m\u001B[0m\u001B[0;34m\u001B[0m\u001B[0m\n\n\u001B[0;32m/databricks/spark/python/lib/py4j-0.10.9.5-src.zip/py4j/java_gateway.py\u001B[0m in \u001B[0;36m__call__\u001B[0;34m(self, *args)\u001B[0m\n\u001B[1;32m   1319\u001B[0m \u001B[0;34m\u001B[0m\u001B[0m\n\u001B[1;32m   1320\u001B[0m         \u001B[0manswer\u001B[0m \u001B[0;34m=\u001B[0m \u001B[0mself\u001B[0m\u001B[0;34m.\u001B[0m\u001B[0mgateway_client\u001B[0m\u001B[0;34m.\u001B[0m\u001B[0msend_command\u001B[0m\u001B[0;34m(\u001B[0m\u001B[0mcommand\u001B[0m\u001B[0;34m)\u001B[0m\u001B[0;34m\u001B[0m\u001B[0;34m\u001B[0m\u001B[0m\n\u001B[0;32m-> 1321\u001B[0;31m         return_value = get_return_value(\n\u001B[0m\u001B[1;32m   1322\u001B[0m             answer, self.gateway_client, self.target_id, self.name)\n\u001B[1;32m   1323\u001B[0m \u001B[0;34m\u001B[0m\u001B[0m\n\n\u001B[0;32m/databricks/spark/python/pyspark/sql/utils.py\u001B[0m in \u001B[0;36mdeco\u001B[0;34m(*a, **kw)\u001B[0m\n\u001B[1;32m    194\u001B[0m     \u001B[0;32mdef\u001B[0m \u001B[0mdeco\u001B[0m\u001B[0;34m(\u001B[0m\u001B[0;34m*\u001B[0m\u001B[0ma\u001B[0m\u001B[0;34m:\u001B[0m \u001B[0mAny\u001B[0m\u001B[0;34m,\u001B[0m \u001B[0;34m**\u001B[0m\u001B[0mkw\u001B[0m\u001B[0;34m:\u001B[0m \u001B[0mAny\u001B[0m\u001B[0;34m)\u001B[0m \u001B[0;34m->\u001B[0m \u001B[0mAny\u001B[0m\u001B[0;34m:\u001B[0m\u001B[0;34m\u001B[0m\u001B[0;34m\u001B[0m\u001B[0m\n\u001B[1;32m    195\u001B[0m         \u001B[0;32mtry\u001B[0m\u001B[0;34m:\u001B[0m\u001B[0;34m\u001B[0m\u001B[0;34m\u001B[0m\u001B[0m\n\u001B[0;32m--> 196\u001B[0;31m             \u001B[0;32mreturn\u001B[0m \u001B[0mf\u001B[0m\u001B[0;34m(\u001B[0m\u001B[0;34m*\u001B[0m\u001B[0ma\u001B[0m\u001B[0;34m,\u001B[0m \u001B[0;34m**\u001B[0m\u001B[0mkw\u001B[0m\u001B[0;34m)\u001B[0m\u001B[0;34m\u001B[0m\u001B[0;34m\u001B[0m\u001B[0m\n\u001B[0m\u001B[1;32m    197\u001B[0m         \u001B[0;32mexcept\u001B[0m \u001B[0mPy4JJavaError\u001B[0m \u001B[0;32mas\u001B[0m \u001B[0me\u001B[0m\u001B[0;34m:\u001B[0m\u001B[0;34m\u001B[0m\u001B[0;34m\u001B[0m\u001B[0m\n\u001B[1;32m    198\u001B[0m             \u001B[0mconverted\u001B[0m \u001B[0;34m=\u001B[0m \u001B[0mconvert_exception\u001B[0m\u001B[0;34m(\u001B[0m\u001B[0me\u001B[0m\u001B[0;34m.\u001B[0m\u001B[0mjava_exception\u001B[0m\u001B[0;34m)\u001B[0m\u001B[0;34m\u001B[0m\u001B[0;34m\u001B[0m\u001B[0m\n\n\u001B[0;32m/databricks/spark/python/lib/py4j-0.10.9.5-src.zip/py4j/protocol.py\u001B[0m in \u001B[0;36mget_return_value\u001B[0;34m(answer, gateway_client, target_id, name)\u001B[0m\n\u001B[1;32m    324\u001B[0m             \u001B[0mvalue\u001B[0m \u001B[0;34m=\u001B[0m \u001B[0mOUTPUT_CONVERTER\u001B[0m\u001B[0;34m[\u001B[0m\u001B[0mtype\u001B[0m\u001B[0;34m]\u001B[0m\u001B[0;34m(\u001B[0m\u001B[0manswer\u001B[0m\u001B[0;34m[\u001B[0m\u001B[0;36m2\u001B[0m\u001B[0;34m:\u001B[0m\u001B[0;34m]\u001B[0m\u001B[0;34m,\u001B[0m \u001B[0mgateway_client\u001B[0m\u001B[0;34m)\u001B[0m\u001B[0;34m\u001B[0m\u001B[0;34m\u001B[0m\u001B[0m\n\u001B[1;32m    325\u001B[0m             \u001B[0;32mif\u001B[0m \u001B[0manswer\u001B[0m\u001B[0;34m[\u001B[0m\u001B[0;36m1\u001B[0m\u001B[0;34m]\u001B[0m \u001B[0;34m==\u001B[0m \u001B[0mREFERENCE_TYPE\u001B[0m\u001B[0;34m:\u001B[0m\u001B[0;34m\u001B[0m\u001B[0;34m\u001B[0m\u001B[0m\n\u001B[0;32m--> 326\u001B[0;31m                 raise Py4JJavaError(\n\u001B[0m\u001B[1;32m    327\u001B[0m                     \u001B[0;34m\"An error occurred while calling {0}{1}{2}.\\n\"\u001B[0m\u001B[0;34m.\u001B[0m\u001B[0;34m\u001B[0m\u001B[0;34m\u001B[0m\u001B[0m\n\u001B[1;32m    328\u001B[0m                     format(target_id, \".\", name), value)\n\n\u001B[0;31mPy4JJavaError\u001B[0m: An error occurred while calling o341.getArgument.\n: com.databricks.dbutils_v1.InputWidgetNotDefined: No input widget named input is defined\n\tat com.databricks.backend.daemon.driver.NotebookArguments.checkExists(NotebookArguments.scala:72)\n\tat com.databricks.backend.daemon.driver.NotebookArguments.getArgument(NotebookArguments.scala:258)\n\tat sun.reflect.NativeMethodAccessorImpl.invoke0(Native Method)\n\tat sun.reflect.NativeMethodAccessorImpl.invoke(NativeMethodAccessorImpl.java:62)\n\tat sun.reflect.DelegatingMethodAccessorImpl.invoke(DelegatingMethodAccessorImpl.java:43)\n\tat java.lang.reflect.Method.invoke(Method.java:498)\n\tat py4j.reflection.MethodInvoker.invoke(MethodInvoker.java:244)\n\tat py4j.reflection.ReflectionEngine.invoke(ReflectionEngine.java:380)\n\tat py4j.Gateway.invoke(Gateway.java:306)\n\tat py4j.commands.AbstractCommand.invokeMethod(AbstractCommand.java:132)\n\tat py4j.commands.CallCommand.execute(CallCommand.java:79)\n\tat py4j.ClientServerConnection.waitForCommands(ClientServerConnection.java:195)\n\tat py4j.ClientServerConnection.run(ClientServerConnection.java:115)\n\tat java.lang.Thread.run(Thread.java:750)\n"
      ]
     },
     "metadata": {
      "application/vnd.databricks.v1+output": {
       "arguments": {},
       "data": "\u001B[0;31m---------------------------------------------------------------------------\u001B[0m\n\u001B[0;31mPy4JJavaError\u001B[0m                             Traceback (most recent call last)\n\u001B[0;32m<command-355361367363890>\u001B[0m in \u001B[0;36m<cell line: 13>\u001B[0;34m()\u001B[0m\n\u001B[1;32m     11\u001B[0m \u001B[0;34m\u001B[0m\u001B[0m\n\u001B[1;32m     12\u001B[0m \u001B[0mdbutils\u001B[0m\u001B[0;34m.\u001B[0m\u001B[0mwidgets\u001B[0m\u001B[0;34m.\u001B[0m\u001B[0mtext\u001B[0m\u001B[0;34m(\u001B[0m\u001B[0;34m\"inout\"\u001B[0m\u001B[0;34m,\u001B[0m \u001B[0;34m\"5\"\u001B[0m\u001B[0;34m,\u001B[0m\u001B[0;34m\"\"\u001B[0m\u001B[0;34m)\u001B[0m\u001B[0;34m\u001B[0m\u001B[0;34m\u001B[0m\u001B[0m\n\u001B[0;32m---> 13\u001B[0;31m \u001B[0mins\u001B[0m\u001B[0;34m=\u001B[0m \u001B[0mdbutils\u001B[0m\u001B[0;34m.\u001B[0m\u001B[0mwidgets\u001B[0m\u001B[0;34m.\u001B[0m\u001B[0mget\u001B[0m\u001B[0;34m(\u001B[0m\u001B[0;34m\"input\"\u001B[0m\u001B[0;34m)\u001B[0m\u001B[0;34m\u001B[0m\u001B[0;34m\u001B[0m\u001B[0m\n\u001B[0m\u001B[1;32m     14\u001B[0m \u001B[0muid\u001B[0m\u001B[0;34m=\u001B[0m\u001B[0mint\u001B[0m\u001B[0;34m(\u001B[0m\u001B[0mins\u001B[0m\u001B[0;34m)\u001B[0m\u001B[0;34m\u001B[0m\u001B[0;34m\u001B[0m\u001B[0m\n\u001B[1;32m     15\u001B[0m \u001B[0mll\u001B[0m\u001B[0;34m=\u001B[0m\u001B[0mpredicted_test_ratings_df\u001B[0m\u001B[0;34m.\u001B[0m\u001B[0mfilter\u001B[0m\u001B[0;34m(\u001B[0m\u001B[0mcol\u001B[0m\u001B[0;34m(\u001B[0m\u001B[0;34m\"userID\"\u001B[0m\u001B[0;34m)\u001B[0m\u001B[0;34m==\u001B[0m\u001B[0muid\u001B[0m\u001B[0;34m)\u001B[0m\u001B[0;34m\u001B[0m\u001B[0;34m\u001B[0m\u001B[0m\n\n\u001B[0;32m/databricks/python_shell/dbruntime/WidgetHandlerImpl.py\u001B[0m in \u001B[0;36mget\u001B[0;34m(self, name)\u001B[0m\n\u001B[1;32m     40\u001B[0m         \u001B[0;34m:\u001B[0m\u001B[0;32mreturn\u001B[0m\u001B[0;34m:\u001B[0m \u001B[0mCurrent\u001B[0m \u001B[0mvalue\u001B[0m \u001B[0mof\u001B[0m \u001B[0mthe\u001B[0m \u001B[0mwidget\u001B[0m \u001B[0;32mor\u001B[0m \u001B[0mdefault\u001B[0m \u001B[0mvalue\u001B[0m\u001B[0;34m\u001B[0m\u001B[0;34m\u001B[0m\u001B[0m\n\u001B[1;32m     41\u001B[0m         \"\"\"\n\u001B[0;32m---> 42\u001B[0;31m         \u001B[0;32mreturn\u001B[0m \u001B[0mself\u001B[0m\u001B[0;34m.\u001B[0m\u001B[0m_notebookArguments\u001B[0m\u001B[0;34m.\u001B[0m\u001B[0mgetArgument\u001B[0m\u001B[0;34m(\u001B[0m\u001B[0mname\u001B[0m\u001B[0;34m,\u001B[0m \u001B[0mself\u001B[0m\u001B[0;34m.\u001B[0m\u001B[0m_entry_point\u001B[0m\u001B[0;34m.\u001B[0m\u001B[0mgetCurrentBindings\u001B[0m\u001B[0;34m(\u001B[0m\u001B[0;34m)\u001B[0m\u001B[0;34m)\u001B[0m\u001B[0;34m\u001B[0m\u001B[0;34m\u001B[0m\u001B[0m\n\u001B[0m\u001B[1;32m     43\u001B[0m \u001B[0;34m\u001B[0m\u001B[0m\n\u001B[1;32m     44\u001B[0m     \u001B[0;32mdef\u001B[0m \u001B[0mgetArgument\u001B[0m\u001B[0;34m(\u001B[0m\u001B[0mself\u001B[0m\u001B[0;34m,\u001B[0m \u001B[0mname\u001B[0m\u001B[0;34m,\u001B[0m \u001B[0mdefaultValue\u001B[0m\u001B[0;34m=\u001B[0m\u001B[0;32mNone\u001B[0m\u001B[0;34m)\u001B[0m\u001B[0;34m:\u001B[0m\u001B[0;34m\u001B[0m\u001B[0;34m\u001B[0m\u001B[0m\n\n\u001B[0;32m/databricks/spark/python/lib/py4j-0.10.9.5-src.zip/py4j/java_gateway.py\u001B[0m in \u001B[0;36m__call__\u001B[0;34m(self, *args)\u001B[0m\n\u001B[1;32m   1319\u001B[0m \u001B[0;34m\u001B[0m\u001B[0m\n\u001B[1;32m   1320\u001B[0m         \u001B[0manswer\u001B[0m \u001B[0;34m=\u001B[0m \u001B[0mself\u001B[0m\u001B[0;34m.\u001B[0m\u001B[0mgateway_client\u001B[0m\u001B[0;34m.\u001B[0m\u001B[0msend_command\u001B[0m\u001B[0;34m(\u001B[0m\u001B[0mcommand\u001B[0m\u001B[0;34m)\u001B[0m\u001B[0;34m\u001B[0m\u001B[0;34m\u001B[0m\u001B[0m\n\u001B[0;32m-> 1321\u001B[0;31m         return_value = get_return_value(\n\u001B[0m\u001B[1;32m   1322\u001B[0m             answer, self.gateway_client, self.target_id, self.name)\n\u001B[1;32m   1323\u001B[0m \u001B[0;34m\u001B[0m\u001B[0m\n\n\u001B[0;32m/databricks/spark/python/pyspark/sql/utils.py\u001B[0m in \u001B[0;36mdeco\u001B[0;34m(*a, **kw)\u001B[0m\n\u001B[1;32m    194\u001B[0m     \u001B[0;32mdef\u001B[0m \u001B[0mdeco\u001B[0m\u001B[0;34m(\u001B[0m\u001B[0;34m*\u001B[0m\u001B[0ma\u001B[0m\u001B[0;34m:\u001B[0m \u001B[0mAny\u001B[0m\u001B[0;34m,\u001B[0m \u001B[0;34m**\u001B[0m\u001B[0mkw\u001B[0m\u001B[0;34m:\u001B[0m \u001B[0mAny\u001B[0m\u001B[0;34m)\u001B[0m \u001B[0;34m->\u001B[0m \u001B[0mAny\u001B[0m\u001B[0;34m:\u001B[0m\u001B[0;34m\u001B[0m\u001B[0;34m\u001B[0m\u001B[0m\n\u001B[1;32m    195\u001B[0m         \u001B[0;32mtry\u001B[0m\u001B[0;34m:\u001B[0m\u001B[0;34m\u001B[0m\u001B[0;34m\u001B[0m\u001B[0m\n\u001B[0;32m--> 196\u001B[0;31m             \u001B[0;32mreturn\u001B[0m \u001B[0mf\u001B[0m\u001B[0;34m(\u001B[0m\u001B[0;34m*\u001B[0m\u001B[0ma\u001B[0m\u001B[0;34m,\u001B[0m \u001B[0;34m**\u001B[0m\u001B[0mkw\u001B[0m\u001B[0;34m)\u001B[0m\u001B[0;34m\u001B[0m\u001B[0;34m\u001B[0m\u001B[0m\n\u001B[0m\u001B[1;32m    197\u001B[0m         \u001B[0;32mexcept\u001B[0m \u001B[0mPy4JJavaError\u001B[0m \u001B[0;32mas\u001B[0m \u001B[0me\u001B[0m\u001B[0;34m:\u001B[0m\u001B[0;34m\u001B[0m\u001B[0;34m\u001B[0m\u001B[0m\n\u001B[1;32m    198\u001B[0m             \u001B[0mconverted\u001B[0m \u001B[0;34m=\u001B[0m \u001B[0mconvert_exception\u001B[0m\u001B[0;34m(\u001B[0m\u001B[0me\u001B[0m\u001B[0;34m.\u001B[0m\u001B[0mjava_exception\u001B[0m\u001B[0;34m)\u001B[0m\u001B[0;34m\u001B[0m\u001B[0;34m\u001B[0m\u001B[0m\n\n\u001B[0;32m/databricks/spark/python/lib/py4j-0.10.9.5-src.zip/py4j/protocol.py\u001B[0m in \u001B[0;36mget_return_value\u001B[0;34m(answer, gateway_client, target_id, name)\u001B[0m\n\u001B[1;32m    324\u001B[0m             \u001B[0mvalue\u001B[0m \u001B[0;34m=\u001B[0m \u001B[0mOUTPUT_CONVERTER\u001B[0m\u001B[0;34m[\u001B[0m\u001B[0mtype\u001B[0m\u001B[0;34m]\u001B[0m\u001B[0;34m(\u001B[0m\u001B[0manswer\u001B[0m\u001B[0;34m[\u001B[0m\u001B[0;36m2\u001B[0m\u001B[0;34m:\u001B[0m\u001B[0;34m]\u001B[0m\u001B[0;34m,\u001B[0m \u001B[0mgateway_client\u001B[0m\u001B[0;34m)\u001B[0m\u001B[0;34m\u001B[0m\u001B[0;34m\u001B[0m\u001B[0m\n\u001B[1;32m    325\u001B[0m             \u001B[0;32mif\u001B[0m \u001B[0manswer\u001B[0m\u001B[0;34m[\u001B[0m\u001B[0;36m1\u001B[0m\u001B[0;34m]\u001B[0m \u001B[0;34m==\u001B[0m \u001B[0mREFERENCE_TYPE\u001B[0m\u001B[0;34m:\u001B[0m\u001B[0;34m\u001B[0m\u001B[0;34m\u001B[0m\u001B[0m\n\u001B[0;32m--> 326\u001B[0;31m                 raise Py4JJavaError(\n\u001B[0m\u001B[1;32m    327\u001B[0m                     \u001B[0;34m\"An error occurred while calling {0}{1}{2}.\\n\"\u001B[0m\u001B[0;34m.\u001B[0m\u001B[0;34m\u001B[0m\u001B[0;34m\u001B[0m\u001B[0m\n\u001B[1;32m    328\u001B[0m                     format(target_id, \".\", name), value)\n\n\u001B[0;31mPy4JJavaError\u001B[0m: An error occurred while calling o341.getArgument.\n: com.databricks.dbutils_v1.InputWidgetNotDefined: No input widget named input is defined\n\tat com.databricks.backend.daemon.driver.NotebookArguments.checkExists(NotebookArguments.scala:72)\n\tat com.databricks.backend.daemon.driver.NotebookArguments.getArgument(NotebookArguments.scala:258)\n\tat sun.reflect.NativeMethodAccessorImpl.invoke0(Native Method)\n\tat sun.reflect.NativeMethodAccessorImpl.invoke(NativeMethodAccessorImpl.java:62)\n\tat sun.reflect.DelegatingMethodAccessorImpl.invoke(DelegatingMethodAccessorImpl.java:43)\n\tat java.lang.reflect.Method.invoke(Method.java:498)\n\tat py4j.reflection.MethodInvoker.invoke(MethodInvoker.java:244)\n\tat py4j.reflection.ReflectionEngine.invoke(ReflectionEngine.java:380)\n\tat py4j.Gateway.invoke(Gateway.java:306)\n\tat py4j.commands.AbstractCommand.invokeMethod(AbstractCommand.java:132)\n\tat py4j.commands.CallCommand.execute(CallCommand.java:79)\n\tat py4j.ClientServerConnection.waitForCommands(ClientServerConnection.java:195)\n\tat py4j.ClientServerConnection.run(ClientServerConnection.java:115)\n\tat java.lang.Thread.run(Thread.java:750)\n",
       "errorSummary": "com.databricks.dbutils_v1.InputWidgetNotDefined: No input widget named input is defined",
       "errorTraceType": "ansi",
       "metadata": {},
       "type": "ipynbError"
      }
     },
     "output_type": "display_data"
    }
   ],
   "source": [
    "from pyspark.ml.evaluation import RegressionEvaluator\n",
    "from pyspark.sql.functions import col\n",
    "\n",
    "reg_eval = RegressionEvaluator(predictionCol=\"prediction\", labelCol = \"rating\", metricName= \"rmse\")\n",
    "predict_df = my_ratings_model.transform(test_df)\n",
    "\n",
    "predicted_test_ratings_df = predict_df.filter(predict_df.prediction != float('nan'))\n",
    "\n",
    "test_RMSE_my_ratings =reg_eval.evaluate(predicted_test_ratings_df)\n",
    "print('The model had a RMSE on the test set of {0}'.format(test_RMSE_my_ratings))\n",
    "\n",
    "dbutils.widgets.text(\"inout\",\"5\",\"\")\n",
    "ins= dbutils.widgets.get(\"input\")\n",
    "uid=int(ins)\n",
    "ll=predicted_test_ratings_df.filter(col(\"userID\")==uid)\n"
   ]
  },
  {
   "cell_type": "code",
   "execution_count": 0,
   "metadata": {
    "application/vnd.databricks.v1+cell": {
     "cellMetadata": {
      "byteLimit": 2048000,
      "rowLimit": 10000
     },
     "inputWidgets": {},
     "nuid": "c5aa203a-3c54-4f59-a957-93bfb2f7c672",
     "showTitle": false,
     "title": ""
    }
   },
   "outputs": [
    {
     "output_type": "display_data",
     "data": {
      "text/plain": [
       "\u001B[0;31m---------------------------------------------------------------------------\u001B[0m\n\u001B[0;31mNameError\u001B[0m                                 Traceback (most recent call last)\n\u001B[0;32m<command-1506129087242971>\u001B[0m in \u001B[0;36m<cell line: 1>\u001B[0;34m()\u001B[0m\n\u001B[0;32m----> 1\u001B[0;31m \u001B[0mMovieRec\u001B[0m \u001B[0;34m=\u001B[0m \u001B[0mll\u001B[0m\u001B[0;34m.\u001B[0m\u001B[0mjoin\u001B[0m\u001B[0;34m(\u001B[0m\u001B[0mmovies_df\u001B[0m\u001B[0;34m,\u001B[0m\u001B[0mF\u001B[0m\u001B[0;34m.\u001B[0m\u001B[0mcol\u001B[0m\u001B[0;34m(\u001B[0m\u001B[0;34m'movieID'\u001B[0m\u001B[0;34m)\u001B[0m \u001B[0;34m==\u001B[0m \u001B[0mf\u001B[0m\u001B[0;34m.\u001B[0m\u001B[0mcol\u001B[0m\u001B[0;34m(\u001B[0m\u001B[0;34m'ID'\u001B[0m\u001B[0;34m)\u001B[0m\u001B[0;34m.\u001B[0m\u001B[0mdrop\u001B[0m\u001B[0;34m(\u001B[0m\u001B[0;34m'ID'\u001B[0m\u001B[0;34m)\u001B[0m\u001B[0;34m.\u001B[0m\u001B[0mselect\u001B[0m\u001B[0;34m(\u001B[0m\u001B[0;34m'title'\u001B[0m\u001B[0;34m)\u001B[0m\u001B[0;34m.\u001B[0m\u001B[0mtake\u001B[0m\u001B[0;34m(\u001B[0m\u001B[0;36m10\u001B[0m\u001B[0;34m)\u001B[0m \u001B[0;34m)\u001B[0m\u001B[0;34m\u001B[0m\u001B[0;34m\u001B[0m\u001B[0m\n\u001B[0m\u001B[1;32m      2\u001B[0m \u001B[0;34m\u001B[0m\u001B[0m\n\u001B[1;32m      3\u001B[0m \u001B[0ml\u001B[0m\u001B[0;34m=\u001B[0m\u001B[0mdbutils\u001B[0m\u001B[0;34m.\u001B[0m\u001B[0mnotebook\u001B[0m\u001B[0;34m.\u001B[0m\u001B[0mexit\u001B[0m\u001B[0;34m(\u001B[0m\u001B[0mMovieRec\u001B[0m\u001B[0;34m)\u001B[0m\u001B[0;34m\u001B[0m\u001B[0;34m\u001B[0m\u001B[0m\n\n\u001B[0;31mNameError\u001B[0m: name 'll' is not defined"
      ]
     },
     "metadata": {
      "application/vnd.databricks.v1+output": {
       "arguments": {},
       "data": "\u001B[0;31m---------------------------------------------------------------------------\u001B[0m\n\u001B[0;31mNameError\u001B[0m                                 Traceback (most recent call last)\n\u001B[0;32m<command-1506129087242971>\u001B[0m in \u001B[0;36m<cell line: 1>\u001B[0;34m()\u001B[0m\n\u001B[0;32m----> 1\u001B[0;31m \u001B[0mMovieRec\u001B[0m \u001B[0;34m=\u001B[0m \u001B[0mll\u001B[0m\u001B[0;34m.\u001B[0m\u001B[0mjoin\u001B[0m\u001B[0;34m(\u001B[0m\u001B[0mmovies_df\u001B[0m\u001B[0;34m,\u001B[0m\u001B[0mF\u001B[0m\u001B[0;34m.\u001B[0m\u001B[0mcol\u001B[0m\u001B[0;34m(\u001B[0m\u001B[0;34m'movieID'\u001B[0m\u001B[0;34m)\u001B[0m \u001B[0;34m==\u001B[0m \u001B[0mf\u001B[0m\u001B[0;34m.\u001B[0m\u001B[0mcol\u001B[0m\u001B[0;34m(\u001B[0m\u001B[0;34m'ID'\u001B[0m\u001B[0;34m)\u001B[0m\u001B[0;34m.\u001B[0m\u001B[0mdrop\u001B[0m\u001B[0;34m(\u001B[0m\u001B[0;34m'ID'\u001B[0m\u001B[0;34m)\u001B[0m\u001B[0;34m.\u001B[0m\u001B[0mselect\u001B[0m\u001B[0;34m(\u001B[0m\u001B[0;34m'title'\u001B[0m\u001B[0;34m)\u001B[0m\u001B[0;34m.\u001B[0m\u001B[0mtake\u001B[0m\u001B[0;34m(\u001B[0m\u001B[0;36m10\u001B[0m\u001B[0;34m)\u001B[0m \u001B[0;34m)\u001B[0m\u001B[0;34m\u001B[0m\u001B[0;34m\u001B[0m\u001B[0m\n\u001B[0m\u001B[1;32m      2\u001B[0m \u001B[0;34m\u001B[0m\u001B[0m\n\u001B[1;32m      3\u001B[0m \u001B[0ml\u001B[0m\u001B[0;34m=\u001B[0m\u001B[0mdbutils\u001B[0m\u001B[0;34m.\u001B[0m\u001B[0mnotebook\u001B[0m\u001B[0;34m.\u001B[0m\u001B[0mexit\u001B[0m\u001B[0;34m(\u001B[0m\u001B[0mMovieRec\u001B[0m\u001B[0;34m)\u001B[0m\u001B[0;34m\u001B[0m\u001B[0;34m\u001B[0m\u001B[0m\n\n\u001B[0;31mNameError\u001B[0m: name 'll' is not defined",
       "errorSummary": "<span class='ansi-red-fg'>NameError</span>: name 'll' is not defined",
       "errorTraceType": "ansi",
       "metadata": {},
       "type": "ipynbError"
      }
     },
     "output_type": "display_data"
    }
   ],
   "source": [
    "MovieRec = ll.join(movies_df,F.col('movieID') == f.col('ID').drop('ID').select('title').take(10) \n",
    "\n",
    "l=dbutils.notebook.exit(MovieRec)"
   ]
  }
 ],
 "metadata": {
  "application/vnd.databricks.v1+notebook": {
   "dashboards": [],
   "language": "python",
   "notebookMetadata": {
    "mostRecentlyExecutedCommandWithImplicitDF": {
     "commandId": 355361367363872,
     "dataframes": [
      "_sqldf"
     ]
    },
    "pythonIndentUnit": 4
   },
   "notebookName": "movie_nb",
   "notebookOrigID": 355361367363870,
   "widgets": {
    "inout": {
     "currentValue": "5",
     "nuid": "21d1faf0-02d5-4d98-9f31-699ae778c703",
     "widgetInfo": {
      "widgetType": "text",
      "defaultValue": "5",
      "label": "",
      "name": "inout",
      "options": {
       "widgetType": "text",
       "validationRegex": null
      }
     }
    }
   }
  }
 },
 "nbformat": 4,
 "nbformat_minor": 0
}
